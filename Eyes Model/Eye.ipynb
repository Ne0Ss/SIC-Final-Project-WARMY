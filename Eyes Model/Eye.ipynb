{
 "cells": [
  {
   "cell_type": "code",
   "execution_count": 13,
   "source": [
    "import cv2\r\n",
    "import os\r\n",
    "import numpy as np\r\n",
    "from sklearn.model_selection import train_test_split\r\n",
    "from matplotlib.pyplot import imshow\r\n",
    "import seaborn as sns\r\n",
    "import h5py\r\n",
    "from keras import layers\r\n",
    "from keras.layers import Input, Dense, Activation, ZeroPadding2D, BatchNormalization, Flatten, Conv2D\r\n",
    "from keras.layers import AveragePooling2D, MaxPooling2D, Dropout, GlobalMaxPooling2D, GlobalAveragePooling2D\r\n",
    "from keras.models import Model\r\n",
    "from keras.preprocessing import image\r\n",
    "from keras.utils import layer_utils\r\n",
    "from keras.models import Sequential\r\n",
    "\r\n",
    "from keras.applications import vgg16\r\n",
    "from keras.applications.vgg16 import VGG16\r\n",
    "from keras.models import Sequential"
   ],
   "outputs": [],
   "metadata": {}
  },
  {
   "cell_type": "code",
   "execution_count": 7,
   "source": [
    "def load_images_from_folder(folder):\r\n",
    "    images = []\r\n",
    "    for filename in os.listdir(folder):\r\n",
    "        img = cv2.imread(os.path.join(folder,filename))\r\n",
    "        if img is not None:\r\n",
    "            images.append(img)\r\n",
    "    return images\r\n",
    "\r\n",
    "Closed=load_images_from_folder('dataset_Eyes_processed/closedLeftEyes/')+load_images_from_folder('dataset_Eyes_processed/closedRightEyes/')\r\n",
    "Open=load_images_from_folder('dataset_Eyes_processed/openLeftEyes/')+load_images_from_folder('dataset_Eyes_processed/openRightEyes/')\r\n",
    "len(Open),len(Closed)"
   ],
   "outputs": [
    {
     "output_type": "execute_result",
     "data": {
      "text/plain": [
       "(2462, 2384)"
      ]
     },
     "metadata": {},
     "execution_count": 7
    }
   ],
   "metadata": {}
  },
  {
   "cell_type": "code",
   "execution_count": 8,
   "source": [
    "Ones=np.ones((1,1231*2), np.int8).T\r\n",
    "Zeros=np.zeros((1,1192*2), np.int8).T\r\n",
    "Ones.shape,Zeros.shape"
   ],
   "outputs": [
    {
     "output_type": "execute_result",
     "data": {
      "text/plain": [
       "((2462, 1), (2384, 1))"
      ]
     },
     "metadata": {},
     "execution_count": 8
    }
   ],
   "metadata": {}
  },
  {
   "cell_type": "code",
   "execution_count": 9,
   "source": [
    "X = np.array(Open+Closed)/255\r\n",
    "Y = np.concatenate((Ones,Zeros))\r\n",
    "X.shape,Y.shape"
   ],
   "outputs": [
    {
     "output_type": "execute_result",
     "data": {
      "text/plain": [
       "((4846, 24, 24, 3), (4846, 1))"
      ]
     },
     "metadata": {},
     "execution_count": 9
    }
   ],
   "metadata": {}
  },
  {
   "cell_type": "code",
   "execution_count": 10,
   "source": [
    "X_train, X_test, Y_train,Y_test = train_test_split(X, Y, test_size = 0.2, random_state=123)\r\n",
    "print (\"number of training examples = \" + str(X_train.shape[0]))\r\n",
    "print (\"number of test examples = \" + str(X_test.shape[0]))\r\n",
    "print (\"X_train shape: \" + str(X_train.shape))\r\n",
    "print (\"Y_train shape: \" + str(Y_train.shape))\r\n",
    "print (\"X_test shape: \" + str(X_test.shape))\r\n",
    "print (\"Y_test shape: \" + str(Y_test.shape))"
   ],
   "outputs": [
    {
     "output_type": "stream",
     "name": "stdout",
     "text": [
      "number of training examples = 3876\n",
      "number of test examples = 970\n",
      "X_train shape: (3876, 24, 24, 3)\n",
      "Y_train shape: (3876, 1)\n",
      "X_test shape: (970, 24, 24, 3)\n",
      "Y_test shape: (970, 1)\n"
     ]
    }
   ],
   "metadata": {}
  },
  {
   "cell_type": "code",
   "execution_count": 11,
   "source": [
    "print(\"Image shape :\",X_train[5].shape,'\\nclass:',Y_train[5])\r\n",
    "imshow(X_train[5])"
   ],
   "outputs": [
    {
     "output_type": "stream",
     "name": "stdout",
     "text": [
      "Image shape : (24, 24, 3) \n",
      "class: [1]\n"
     ]
    },
    {
     "output_type": "execute_result",
     "data": {
      "text/plain": [
       "<matplotlib.image.AxesImage at 0x10c826b8460>"
      ]
     },
     "metadata": {},
     "execution_count": 11
    },
    {
     "output_type": "display_data",
     "data": {
      "image/png": "[encoded data removed]",
      "text/plain": [
       "<Figure size 432x288 with 1 Axes>"
      ]
     },
     "metadata": {
      "needs_background": "light"
     }
    }
   ],
   "metadata": {}
  },
  {
   "cell_type": "code",
   "execution_count": 48,
   "source": [
    "# vgg = vgg16.VGG16(include_top=False, weights='imagenet', input_shape=(24, 24, 3)) \r\n",
    "\r\n",
    "# output = vgg.layers[-1].output\r\n",
    "# output = Flatten()(output)\r\n",
    "# vgg_model = Model(vgg.input, output)\r\n",
    "\r\n",
    "# vgg_model.trainable = False\r\n",
    "# for layer in vgg_model.layers:\r\n",
    "#     layer.trainable = False\r\n",
    "###########################################################\r\n",
    "# model = Sequential()\r\n",
    "# model.add(Conv2D(filters=24, kernel_size=(7,7), activation='relu', padding='same',\r\n",
    "#                 input_shape=(24, 24, 3)))\r\n",
    "# model.add(Dense(512, activation='relu', input_dim=(24, 24, 3)))\r\n",
    "# model.add(Dropout(0.3))\r\n",
    "# model.add(Dense(256, activation='relu'))\r\n",
    "# model.add(Dropout(0.2))\r\n",
    "# model.add(Dense(128, activation='relu'))\r\n",
    "# model.add(Dropout(0.2))\r\n",
    "# model.add(Dense(1, activation='sigmoid'))\r\n",
    "\r\n",
    "# model.summary()\r\n",
    "############################################################\r\n",
    "model = Sequential([Conv2D(filters=128, kernel_size=(7,7), activation='relu', padding='same',\r\n",
    "                     input_shape=(24, 24, 3)),\r\n",
    "                     BatchNormalization(),\r\n",
    "                     MaxPooling2D(pool_size=(2,2)),\r\n",
    "                     Flatten(),\r\n",
    "                     Dense(units =1, activation='sigmoid') ])\r\n",
    "model.summary()"
   ],
   "outputs": [
    {
     "output_type": "stream",
     "name": "stdout",
     "text": [
      "Model: \"sequential_8\"\n",
      "_________________________________________________________________\n",
      "Layer (type)                 Output Shape              Param #   \n",
      "=================================================================\n",
      "conv2d_8 (Conv2D)            (None, 24, 24, 128)       18944     \n",
      "_________________________________________________________________\n",
      "batch_normalization_3 (Batch (None, 24, 24, 128)       512       \n",
      "_________________________________________________________________\n",
      "max_pooling2d_3 (MaxPooling2 (None, 12, 12, 128)       0         \n",
      "_________________________________________________________________\n",
      "flatten_3 (Flatten)          (None, 18432)             0         \n",
      "_________________________________________________________________\n",
      "dense_24 (Dense)             (None, 1)                 18433     \n",
      "=================================================================\n",
      "Total params: 37,889\n",
      "Trainable params: 37,633\n",
      "Non-trainable params: 256\n",
      "_________________________________________________________________\n"
     ]
    }
   ],
   "metadata": {}
  },
  {
   "cell_type": "code",
   "execution_count": 49,
   "source": [
    "model.compile(optimizer='Adam', loss='binary_crossentropy', metrics=[\"accuracy\"])"
   ],
   "outputs": [],
   "metadata": {}
  },
  {
   "cell_type": "code",
   "execution_count": 50,
   "source": [
    "X_train.shape,Y_train.shape"
   ],
   "outputs": [
    {
     "output_type": "execute_result",
     "data": {
      "text/plain": [
       "((3876, 24, 24, 3), (3876, 1))"
      ]
     },
     "metadata": {},
     "execution_count": 50
    }
   ],
   "metadata": {}
  },
  {
   "cell_type": "code",
   "execution_count": 51,
   "source": [
    "history_model = model.fit(X_train, Y_train,\r\n",
    "                    batch_size=1,\r\n",
    "                    epochs=10)"
   ],
   "outputs": [
    {
     "output_type": "stream",
     "name": "stdout",
     "text": [
      "Epoch 1/10\n",
      "3876/3876 [==============================] - 10s 2ms/step - loss: 0.4590 - accuracy: 0.8225\n",
      "Epoch 2/10\n",
      "3876/3876 [==============================] - 9s 2ms/step - loss: 0.3114 - accuracy: 0.8767\n",
      "Epoch 3/10\n",
      "3876/3876 [==============================] - 9s 2ms/step - loss: 0.2960 - accuracy: 0.8904\n",
      "Epoch 4/10\n",
      "3876/3876 [==============================] - 9s 2ms/step - loss: 0.2572 - accuracy: 0.9025\n",
      "Epoch 5/10\n",
      "3876/3876 [==============================] - 9s 2ms/step - loss: 0.2074 - accuracy: 0.9182\n",
      "Epoch 6/10\n",
      "3876/3876 [==============================] - 9s 2ms/step - loss: 0.1956 - accuracy: 0.9293\n",
      "Epoch 7/10\n",
      "3876/3876 [==============================] - 9s 2ms/step - loss: 0.2154 - accuracy: 0.9169\n",
      "Epoch 8/10\n",
      "3876/3876 [==============================] - 9s 2ms/step - loss: 0.1856 - accuracy: 0.9247\n",
      "Epoch 9/10\n",
      "3876/3876 [==============================] - 9s 2ms/step - loss: 0.1671 - accuracy: 0.9329\n",
      "Epoch 10/10\n",
      "3876/3876 [==============================] - 9s 2ms/step - loss: 0.1636 - accuracy: 0.9381\n"
     ]
    }
   ],
   "metadata": {}
  },
  {
   "cell_type": "code",
   "execution_count": 52,
   "source": [
    "test_loss, test_accuracy = model.evaluate(X_test, Y_test, batch_size=32)\r\n",
    "print('Test loss: %.4f accuracy: %.4f' % (test_loss, test_accuracy))"
   ],
   "outputs": [
    {
     "output_type": "stream",
     "name": "stdout",
     "text": [
      "31/31 [==============================] - 0s 8ms/step - loss: 0.2568 - accuracy: 0.9062\n",
      "Test loss: 0.2568 accuracy: 0.9062\n"
     ]
    }
   ],
   "metadata": {}
  },
  {
   "cell_type": "code",
   "execution_count": 55,
   "source": [
    "model.save('eye_model')"
   ],
   "outputs": [
    {
     "output_type": "stream",
     "name": "stdout",
     "text": [
      "INFO:tensorflow:Assets written to: trained_models\\assets\n"
     ]
    }
   ],
   "metadata": {}
  },
  {
   "cell_type": "code",
   "execution_count": 53,
   "source": [
    "Y_pred=model.predict(X_test)\r\n",
    "cpt = 0\r\n",
    "for i in range(970):\r\n",
    "    if int(Y_pred[i])==Y_test[i]:\r\n",
    "        cpt+=1\r\n",
    "print(cpt/970)"
   ],
   "outputs": [
    {
     "output_type": "stream",
     "name": "stdout",
     "text": [
      "0.49896907216494846\n"
     ]
    }
   ],
   "metadata": {}
  },
  {
   "cell_type": "code",
   "execution_count": 54,
   "source": [
    "import matplotlib.pyplot as plt\r\n",
    "\r\n",
    "Y_pred=model.predict(X_test)\r\n",
    "labels=['closed','open']\r\n",
    "plt.figure(figsize=(10,10))\r\n",
    "for i in range(25):\r\n",
    "    plt.subplot(5,5,i+1)\r\n",
    "    plt.xticks([])\r\n",
    "    plt.yticks([])\r\n",
    "    plt.grid('off')\r\n",
    "    \r\n",
    "    img_index = np.random.randint(0, 970) \r\n",
    "    imshow(X_test[img_index])\r\n",
    "    \r\n",
    "    actual_label = int(Y_test[img_index])\r\n",
    "    predicted_label = int(Y_pred[img_index])\r\n",
    "    \r\n",
    "    plt.xlabel(\"Actual: {} ({})\\n Predicted: {} ({})\".format(\r\n",
    "        actual_label, labels[actual_label], predicted_label, labels[predicted_label]\r\n",
    "    ))\r\n",
    "\r\n",
    "plt.tight_layout()\r\n",
    "plt.show()"
   ],
   "outputs": [
    {
     "output_type": "display_data",
     "data": {
      "image/png": "[encoded data removed]",
      "text/plain": [
       "<Figure size 720x720 with 25 Axes>"
      ]
     },
     "metadata": {}
    }
   ],
   "metadata": {}
  },
  {
   "cell_type": "code",
   "execution_count": 79,
   "source": [
    "from tensorflow import keras\r\n",
    "model = keras.models.load_model('eye_model')"
   ],
   "outputs": [],
   "metadata": {}
  },
  {
   "cell_type": "markdown",
   "source": [
    "# Tester 1"
   ],
   "metadata": {}
  },
  {
   "cell_type": "code",
   "execution_count": 96,
   "source": [
    "cap = cv2.VideoCapture(0)\r\n",
    "#face_cascade = cv2.CascadeClassifier('haarcascades/haarcascade_frontalface_default.xml')\r\n",
    "face_cascade = cv2.CascadeClassifier('haarcascades/haarcascade_eye_tree_eyeglasses.xml')\r\n",
    "while cv2.waitKey(1) != 27:\r\n",
    "    has_frame, img = cap.read()\r\n",
    "    gray = cv2.cvtColor(img, cv2.COLOR_BGR2GRAY)\r\n",
    "    # Detect the eyes\r\n",
    "    faces = face_cascade.detectMultiScale(gray, 1.1, 4)\r\n",
    "    # Draw the rectangle around each face\r\n",
    "    predicted=[]\r\n",
    "    for (x, y, w, h) in faces:\r\n",
    "        cv2.rectangle(img, (x, y), (x+w, y+h), (255, 0, 0), 2)\r\n",
    "        predicted.append(cv2.resize(img[y:y+h,x:x+w], (24,24)))\r\n",
    "    if len(predicted)>1:\r\n",
    "        pred=model.predict(np.array(predicted))\r\n",
    "        cv2.putText(img,str(int(pred[0]))+'  '+str(int(pred[1])),(50,50),cv2.FONT_HERSHEY_COMPLEX,.8,(0,255,0),2)\r\n",
    "    cv2.imshow('img', img)\r\n",
    "cv2.destroyAllWindows()"
   ],
   "outputs": [],
   "metadata": {}
  },
  {
   "cell_type": "markdown",
   "source": [
    "# Tester 2"
   ],
   "metadata": {}
  },
  {
   "cell_type": "code",
   "execution_count": 103,
   "source": [
    "cap = cv2.VideoCapture(0)\r\n",
    "eye_cascade = cv2.CascadeClassifier('haarcascades/haarcascade_frontalface_default.xml')\r\n",
    "#eye_cascade = cv2.CascadeClassifier('haarcascades/haarcascade_eye_tree_eyeglasses.xml')\r\n",
    "while cv2.waitKey(1) != 27:\r\n",
    "    has_frame, img = cap.read()\r\n",
    "    gray = cv2.cvtColor(img, cv2.COLOR_BGR2GRAY)\r\n",
    "    # Detect the eyes\r\n",
    "    eyes = eye_cascade.detectMultiScale(gray, 1.1, 4)\r\n",
    "    # Draw the rectangle around each face\r\n",
    "    predicted=[]\r\n",
    "    if len(eyes)==1:\r\n",
    "        for (x, y, w, h) in eyes:\r\n",
    "            cv2.rectangle(img, (x+40, y+50), (x+int(w/2)-20, y+int(h/2)), (255, 0, 0), 2)\r\n",
    "            cv2.rectangle(img, (x+int(w/2)+20, y+50), (x+w-40, y+int(h/2)), (255, 0, 0), 2)\r\n",
    "            predicted.append(cv2.resize(img[y:y+int(h/2),x:x+int(w/2)], (24,24)))\r\n",
    "            predicted.append(cv2.resize(img[y:y+int(h/2),x+int(w/2):x+w], (24,24)))\r\n",
    "    if len(predicted)>1:\r\n",
    "        pred=model.predict(np.array(predicted))\r\n",
    "        cv2.putText(img,str(int(pred[0]))+'  '+str(int(pred[1])),(50,50),cv2.FONT_HERSHEY_COMPLEX,.8,(0,255,0),2)\r\n",
    "    cv2.imshow('img', img)\r\n",
    "cv2.destroyAllWindows()"
   ],
   "outputs": [],
   "metadata": {}
  },
  {
   "cell_type": "code",
   "execution_count": 74,
   "source": [],
   "outputs": [],
   "metadata": {}
  }
 ],
 "metadata": {
  "kernelspec": {
   "name": "python3",
   "display_name": "Python 3.8.8 64-bit ('base': conda)"
  },
  "language_info": {
   "codemirror_mode": {
    "name": "ipython",
    "version": 3
   },
   "file_extension": ".py",
   "mimetype": "text/x-python",
   "name": "python",
   "nbconvert_exporter": "python",
   "pygments_lexer": "ipython3",
   "version": "3.8.8"
  },
  "interpreter": {
   "hash": "4949b78f48d8513d8ff039910be2b63568b354150738d3e85d54b60dc360063c"
  }
 },
 "nbformat": 4,
 "nbformat_minor": 5
}