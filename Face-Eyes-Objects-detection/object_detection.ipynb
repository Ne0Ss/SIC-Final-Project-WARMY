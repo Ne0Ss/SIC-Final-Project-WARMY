{
 "cells": [
  {
   "cell_type": "markdown",
   "metadata": {},
   "source": [
    "# OBJECTS DETECTION "
   ]
  },
  {
   "cell_type": "code",
   "execution_count": 3,
   "metadata": {
    "scrolled": true
   },
   "outputs": [
    {
     "name": "stdout",
     "output_type": "stream",
     "text": [
      "() ()\n",
      "[[1]] [[  7   2 630 476]]\n",
      "[[1]] [[  7   2 629 476]]\n",
      "[[1]] [[  8   2 628 476]]\n",
      "[[1]] [[  6   2 630 476]]\n",
      "[[1]] [[  7   2 629 476]]\n",
      "[[1]] [[  7   2 630 476]]\n",
      "[[1]] [[  7   2 630 477]]\n",
      "[[1]] [[ 30   2 607 477]]\n",
      "[[ 1]\n",
      " [77]] [[ 28   3 602 476]\n",
      " [251 307 103 103]]\n",
      "[[ 1]\n",
      " [77]] [[ 27   4 598 476]\n",
      " [274 324  99 102]]\n",
      "[[ 1]\n",
      " [77]] [[ 29   0 610 480]\n",
      " [307 357 104 114]]\n",
      "[[ 1]\n",
      " [77]] [[ 28   2 611 477]\n",
      " [340 392 110  88]]\n",
      "[[1]] [[ 31   2 608 478]]\n",
      "[[1]] [[ 30   3 610 477]]\n",
      "[[1]] [[ 31   3 609 477]]\n",
      "[[1]] [[ 31   4 609 476]]\n",
      "[[1]] [[ 28   2 612 478]]\n",
      "[[1]] [[ 28   1 612 479]]\n",
      "[[1]] [[ 28   4 612 476]]\n",
      "[[1]] [[ 29   3 610 477]]\n",
      "[[1]] [[ 34   1 606 479]]\n",
      "[[1]] [[ 40   0 600 480]]\n",
      "[[1]] [[ 24   0 616 480]]\n",
      "[[1]\n",
      " [1]] [[ 48   3 592 477]\n",
      " [  2 249 152 230]]\n",
      "[[1]] [[ 39   1 601 479]]\n",
      "[[1]] [[ 40   2 600 478]]\n",
      "[[1]] [[ 40   2 600 478]]\n",
      "[[1]] [[ 41   1 599 479]]\n",
      "[[1]] [[ 44   1 596 479]]\n",
      "[[1]] [[ 42   1 598 479]]\n",
      "[[1]] [[ 43   1 597 479]]\n",
      "[[1]] [[ 45   1 595 479]]\n",
      "[[1]] [[ 46   1 594 479]]\n",
      "[[1]] [[ 40   1 600 479]]\n",
      "[[1]] [[ 41   1 599 479]]\n",
      "[[1]] [[ 40   1 600 479]]\n",
      "[[1]] [[ 40   1 600 479]]\n",
      "[[1]] [[ 41   1 599 479]]\n",
      "[[1]] [[ 44   1 596 479]]\n",
      "[[1]] [[ 41   1 599 479]]\n",
      "[[1]] [[ 40   1 600 479]]\n",
      "[[1]] [[ 41   1 599 479]]\n",
      "[[1]] [[ 41   1 599 479]]\n"
     ]
    }
   ],
   "source": [
    "import cv2\n",
    "\n",
    "# img = cv2.imread('test_imgs/riad.jpg')\n",
    "cap = cv2.VideoCapture(1)\n",
    "cap.set(3,640)\n",
    "cap.set(4,480)\n",
    "\n",
    "classNames =[]\n",
    "classFile = 'coco.names'\n",
    "with open(classFile,'rt') as f:\n",
    "    classNames = f.read().rstrip('\\n').split('\\n')\n",
    "\n",
    "configPath = 'ssd_mobilenet_v3_large_coco_2020_01_14.pbtxt'\n",
    "weightsPath = 'frozen_inference_graph.pb'\n",
    "\n",
    "net = cv2.dnn_DetectionModel(weightsPath,configPath)\n",
    "net.setInputSize(320,320)\n",
    "net.setInputScale(1.0/127.5)\n",
    "net.setInputMean((127.5,127.5,127.5))\n",
    "net.setInputSwapRB(True)\n",
    "\n",
    "while True:\n",
    "    success,img = cap.read()\n",
    "    classIds, confs, bbox = net.detect(img,confThreshold=0.5)\n",
    "    print(classIds,bbox)\n",
    "    \n",
    "    if len(classIds) != 0 :\n",
    "        for classId,confidence,box in zip(classIds.flatten(),confs.flatten(),bbox):\n",
    "#             if classId == 77 : # show cell phone ONLY\n",
    "            cv2.rectangle(img,box,color=(0,255,0),thickness=2)\n",
    "            cv2.putText(img,classNames[classId-1].upper()+': '+str(round(confidence*100))+'%',(box[0]+10,box[1]+30),cv2.FONT_HERSHEY_COMPLEX,.8,(0,255,0),2)\n",
    "    cv2.imshow(\"Output\",img)\n",
    "    if cv2.waitKey(10)== ord('q'):\n",
    "        break\n",
    "cap.release()\n",
    "cv2.destroyAllWindows()"
   ]
  },
  {
   "cell_type": "markdown",
   "metadata": {},
   "source": [
    "### From single image"
   ]
  },
  {
   "cell_type": "code",
   "execution_count": 21,
   "metadata": {},
   "outputs": [],
   "source": [
    "def increase_brightness(img, value=30):\n",
    "    hsv = cv2.cvtColor(img, cv2.COLOR_BGR2HSV)\n",
    "    h, s, v = cv2.split(hsv)\n",
    "\n",
    "    lim = 255 - value\n",
    "    v[v > lim] = 255\n",
    "    v[v <= lim] += value\n",
    "\n",
    "    final_hsv = cv2.merge((h, s, v))\n",
    "    img = cv2.cvtColor(final_hsv, cv2.COLOR_HSV2BGR)\n",
    "    return img"
   ]
  },
  {
   "cell_type": "code",
   "execution_count": 40,
   "metadata": {},
   "outputs": [
    {
     "data": {
      "text/plain": [
       "-1"
      ]
     },
     "execution_count": 40,
     "metadata": {},
     "output_type": "execute_result"
    }
   ],
   "source": [
    "img = cv2.imread('test_imgs/desk.jpg') #load rgb image\n",
    "img = increase_brightness(img, 999)\n",
    "cv2.imshow(\"Output\",img)\n",
    "cv2.waitKey(0)"
   ]
  },
  {
   "cell_type": "code",
   "execution_count": 11,
   "metadata": {},
   "outputs": [
    {
     "name": "stdout",
     "output_type": "stream",
     "text": [
      "[[72]\n",
      " [76]\n",
      " [74]\n",
      " [74]] [[108  25 123 119]\n",
      " [134 158 174  55]\n",
      " [120 151  30  17]\n",
      " [222 129  29  27]]\n"
     ]
    },
    {
     "ename": "error",
     "evalue": "OpenCV(4.5.3) C:\\Users\\runneradmin\\AppData\\Local\\Temp\\pip-req-build-q3d_8t8e\\opencv\\modules\\imgproc\\src\\color.cpp:182: error: (-215:Assertion failed) !_src.empty() in function 'cv::cvtColor'\n",
     "output_type": "error",
     "traceback": [
      "\u001b[1;31m---------------------------------------------------------------------------\u001b[0m",
      "\u001b[1;31merror\u001b[0m                                     Traceback (most recent call last)",
      "\u001b[1;32m<ipython-input-11-6f02814651b8>\u001b[0m in \u001b[0;36m<module>\u001b[1;34m\u001b[0m\n\u001b[0;32m     25\u001b[0m \u001b[1;33m\u001b[0m\u001b[0m\n\u001b[0;32m     26\u001b[0m \u001b[0mimg\u001b[0m \u001b[1;33m=\u001b[0m \u001b[0mcv2\u001b[0m\u001b[1;33m.\u001b[0m\u001b[0mimread\u001b[0m\u001b[1;33m(\u001b[0m\u001b[1;34m'test.jpg'\u001b[0m\u001b[1;33m)\u001b[0m \u001b[1;31m#load rgb image\u001b[0m\u001b[1;33m\u001b[0m\u001b[1;33m\u001b[0m\u001b[0m\n\u001b[1;32m---> 27\u001b[1;33m \u001b[0mhsv\u001b[0m \u001b[1;33m=\u001b[0m \u001b[0mcv2\u001b[0m\u001b[1;33m.\u001b[0m\u001b[0mcvtColor\u001b[0m\u001b[1;33m(\u001b[0m\u001b[0mimg\u001b[0m\u001b[1;33m,\u001b[0m \u001b[0mcv2\u001b[0m\u001b[1;33m.\u001b[0m\u001b[0mCOLOR_BGR2HSV\u001b[0m\u001b[1;33m)\u001b[0m \u001b[1;31m#convert it to hsv\u001b[0m\u001b[1;33m\u001b[0m\u001b[1;33m\u001b[0m\u001b[0m\n\u001b[0m\u001b[0;32m     28\u001b[0m \u001b[1;33m\u001b[0m\u001b[0m\n\u001b[0;32m     29\u001b[0m \u001b[1;32mfor\u001b[0m \u001b[0mx\u001b[0m \u001b[1;32min\u001b[0m \u001b[0mrange\u001b[0m\u001b[1;33m(\u001b[0m\u001b[1;36m0\u001b[0m\u001b[1;33m,\u001b[0m \u001b[0mlen\u001b[0m\u001b[1;33m(\u001b[0m\u001b[0mhsv\u001b[0m\u001b[1;33m)\u001b[0m\u001b[1;33m)\u001b[0m\u001b[1;33m:\u001b[0m\u001b[1;33m\u001b[0m\u001b[1;33m\u001b[0m\u001b[0m\n",
      "\u001b[1;31merror\u001b[0m: OpenCV(4.5.3) C:\\Users\\runneradmin\\AppData\\Local\\Temp\\pip-req-build-q3d_8t8e\\opencv\\modules\\imgproc\\src\\color.cpp:182: error: (-215:Assertion failed) !_src.empty() in function 'cv::cvtColor'\n"
     ]
    }
   ],
   "source": [
    "import cv2\n",
    "\n",
    "img = cv2.imread('test_imgs/desk.jpg')\n",
    "\n",
    "classNames =[]\n",
    "classFile = 'coco.names'\n",
    "with open(classFile,'rt') as f:\n",
    "    classNames = f.read().rstrip('\\n').split('\\n')\n",
    "\n",
    "configPath = 'ssd_mobilenet_v3_large_coco_2020_01_14.pbtxt'\n",
    "weightsPath = 'frozen_inference_graph.pb'\n",
    "\n",
    "net = cv2.dnn_DetectionModel(weightsPath,configPath)\n",
    "net.setInputSize(320,320)\n",
    "net.setInputScale(1.0/127.5)\n",
    "net.setInputMean((127.5,127.5,127.5))\n",
    "net.setInputSwapRB(True)\n",
    "\n",
    "classIds, confs, bbox = net.detect(img,confThreshold=0.5)\n",
    "print(classIds,bbox)\n",
    "\n",
    "for classId,confidence,box in zip(classIds.flatten(),confs.flatten(),bbox):\n",
    "    cv2.rectangle(img,box,color=(0,255,0),thickness=2)\n",
    "    cv2.putText(img,classNames[classId-1].upper(),(box[0]+10,box[1]+30),cv2.FONT_HERSHEY_COMPLEX,.8,(0,255,0),2)\n",
    "\n",
    "cv2.imshow(\"Output\",img)\n",
    "cv2.waitKey(0)\n",
    "cv2.destroyAllWindows()"
   ]
  },
  {
   "cell_type": "markdown",
   "metadata": {},
   "source": [
    "# FACE ONLY"
   ]
  },
  {
   "cell_type": "code",
   "execution_count": 5,
   "metadata": {},
   "outputs": [
    {
     "ename": "KeyboardInterrupt",
     "evalue": "",
     "output_type": "error",
     "traceback": [
      "\u001b[1;31m---------------------------------------------------------------------------\u001b[0m",
      "\u001b[1;31mKeyboardInterrupt\u001b[0m                         Traceback (most recent call last)",
      "\u001b[1;32m<ipython-input-5-9926602b3030>\u001b[0m in \u001b[0;36m<module>\u001b[1;34m\u001b[0m\n\u001b[0;32m     22\u001b[0m     \u001b[0mcv2\u001b[0m\u001b[1;33m.\u001b[0m\u001b[0mimshow\u001b[0m\u001b[1;33m(\u001b[0m\u001b[1;34m'img'\u001b[0m\u001b[1;33m,\u001b[0m \u001b[0mgray\u001b[0m\u001b[1;33m)\u001b[0m\u001b[1;33m\u001b[0m\u001b[1;33m\u001b[0m\u001b[0m\n\u001b[0;32m     23\u001b[0m     \u001b[1;31m# Stop if escape key is pressed\u001b[0m\u001b[1;33m\u001b[0m\u001b[1;33m\u001b[0m\u001b[1;33m\u001b[0m\u001b[0m\n\u001b[1;32m---> 24\u001b[1;33m     \u001b[0mk\u001b[0m \u001b[1;33m=\u001b[0m \u001b[0mcv2\u001b[0m\u001b[1;33m.\u001b[0m\u001b[0mwaitKey\u001b[0m\u001b[1;33m(\u001b[0m\u001b[1;36m30\u001b[0m\u001b[1;33m)\u001b[0m \u001b[1;33m&\u001b[0m \u001b[1;36m0xff\u001b[0m\u001b[1;33m\u001b[0m\u001b[1;33m\u001b[0m\u001b[0m\n\u001b[0m\u001b[0;32m     25\u001b[0m     \u001b[1;32mif\u001b[0m \u001b[0mk\u001b[0m\u001b[1;33m==\u001b[0m\u001b[1;36m27\u001b[0m\u001b[1;33m:\u001b[0m\u001b[1;33m\u001b[0m\u001b[1;33m\u001b[0m\u001b[0m\n\u001b[0;32m     26\u001b[0m         \u001b[1;32mbreak\u001b[0m\u001b[1;33m\u001b[0m\u001b[1;33m\u001b[0m\u001b[0m\n",
      "\u001b[1;31mKeyboardInterrupt\u001b[0m: "
     ]
    }
   ],
   "source": [
    "import cv2\n",
    "\n",
    "# Load the cascade\n",
    "face_cascade = cv2.CascadeClassifier('haarcascades/haarcascade_frontalface_default.xml')\n",
    "\n",
    "# To capture video from webcam. \n",
    "cap = cv2.VideoCapture(0)\n",
    "# To use a video file as input \n",
    "# cap = cv2.VideoCapture('filename.mp4')\n",
    "\n",
    "while True:\n",
    "    # Read the frame\n",
    "    _, img = cap.read()\n",
    "    # Convert to grayscale\n",
    "    gray = cv2.cvtColor(img, cv2.COLOR_BGR2GRAY)\n",
    "    # Detect the faces\n",
    "    faces = face_cascade.detectMultiScale(gray, 1.1, 4)\n",
    "    # Draw the rectangle around each face\n",
    "    for (x, y, w, h) in faces:\n",
    "        cv2.rectangle(img, (x, y), (x+w, y+h), (255, 0, 0), 2)\n",
    "    # Display\n",
    "    cv2.imshow('img', gray)\n",
    "    # Stop if escape key is pressed\n",
    "    k = cv2.waitKey(30) & 0xff\n",
    "    if k==27:\n",
    "        break\n",
    "# Release the VideoCapture object\n",
    "cap.release()\n",
    "cv2.destroyAllWindows()"
   ]
  },
  {
   "cell_type": "code",
   "execution_count": null,
   "metadata": {},
   "outputs": [],
   "source": [
    "img = cv2.imread('test.jpg') #load rgb image\n",
    "hsv = cv2.cvtColor(img, cv2.COLOR_BGR2HSV) #convert it to hsv\n",
    "\n",
    "for x in range(0, len(hsv)):\n",
    "    for y in range(0, len(hsv[0])):\n",
    "        hsv[x, y][2] += value\n",
    "\n",
    "img = cv2.cvtColor(hsv, cv2.COLOR_HSV2BGR)"
   ]
  },
  {
   "cell_type": "markdown",
   "metadata": {},
   "source": [
    "# Face & eyes"
   ]
  },
  {
   "cell_type": "code",
   "execution_count": 57,
   "metadata": {},
   "outputs": [],
   "source": [
    "import numpy as np\n",
    "import cv2\n",
    "\n",
    "cap = cv2.VideoCapture(2)\n",
    "face_cascade = cv2.CascadeClassifier(cv2.data.haarcascades + 'haarcascade_frontalface_default.xml')\n",
    "eye_cascade = cv2.CascadeClassifier(cv2.data.haarcascades + 'haarcascade_eye_tree_eyeglasses.xml')\n",
    "\n",
    "while True:\n",
    "    ret, frame = cap.read()\n",
    "    img = increase_brightness(frame, 50)\n",
    "    gray = cv2.cvtColor(img, cv2.COLOR_BGR2GRAY)\n",
    "    faces = face_cascade.detectMultiScale(gray, 1.3, 5)\n",
    "    for (x, y, w, h) in faces:\n",
    "        cv2.rectangle(frame, (x, y), (x + w, y + h), (255, 0, 0), 5)\n",
    "        roi_gray = gray[y:y+w, x:x+w]\n",
    "        roi_color = frame[y:y+h, x:x+w]\n",
    "        eyes = eye_cascade.detectMultiScale(roi_gray, 1.3, 5)\n",
    "        for (ex, ey, ew, eh) in eyes:\n",
    "            cv2.rectangle(roi_color, (ex, ey), (ex + ew, ey + eh), (0, 255, 0), 5)\n",
    "        if len(eyes) == 0:\n",
    "            cv2.putText(frame,'No eyes!!!',(50,50),cv2.FONT_HERSHEY_COMPLEX,.8,(0,255,0),2)\n",
    "        else:\n",
    "            cv2.putText(frame,'eyes!!!',(50,50),cv2.FONT_HERSHEY_COMPLEX,.8,(0,255,0),2)\n",
    "    cv2.imshow('frame', frame)\n",
    "    \n",
    "    if cv2.waitKey(1) == ord('q'):\n",
    "        break\n",
    "\n",
    "cap.release()\n",
    "cv2.destroyAllWindows()"
   ]
  },
  {
   "cell_type": "markdown",
   "metadata": {},
   "source": [
    "# Eyes!!  -   No eyes!!"
   ]
  },
  {
   "cell_type": "code",
   "execution_count": 5,
   "metadata": {},
   "outputs": [
    {
     "name": "stdout",
     "output_type": "stream",
     "text": [
      "eyes!!!\n",
      "eyes!!!\n",
      "eyes!!!\n",
      "eyes!!!\n",
      "eyes!!!\n",
      "eyes!!!\n",
      "eyes!!!\n",
      "eyes!!!\n",
      "eyes!!!\n",
      "eyes!!!\n",
      "eyes!!!\n",
      "eyes!!!\n",
      "eyes!!!\n",
      "eyes!!!\n",
      "eyes!!!\n",
      "eyes!!!\n",
      "eyes!!!\n",
      "eyes!!!\n",
      "eyes!!!\n",
      "eyes!!!\n",
      "eyes!!!\n",
      "eyes!!!\n",
      "eyes!!!\n",
      "eyes!!!\n",
      "eyes!!!\n",
      "eyes!!!\n",
      "eyes!!!\n",
      "eyes!!!\n",
      "eyes!!!\n",
      "eyes!!!\n",
      "eyes!!!\n",
      "eyes!!!\n",
      "eyes!!!\n"
     ]
    }
   ],
   "source": [
    "import cv2\n",
    "eye_cascPath = 'haarcascades/haarcascade_eye_tree_eyeglasses.xml'  #eye detect model\n",
    "face_cascPath = 'haarcascades/haarcascade_frontalface_alt.xml'  #face detect model\n",
    "faceCascade = cv2.CascadeClassifier(face_cascPath)\n",
    "eyeCascade = cv2.CascadeClassifier(eye_cascPath)\n",
    "\n",
    "cap = cv2.VideoCapture(0)\n",
    "while 1:\n",
    "    ret, img = cap.read()\n",
    "    if ret:\n",
    "        frame = cv2.cvtColor(img, cv2.COLOR_BGR2GRAY)\n",
    "        # Detect faces in the image\n",
    "        faces = faceCascade.detectMultiScale(frame, 1.3, 5)\n",
    "        # print(\"Found {0} faces!\".format(len(faces)))\n",
    "        if len(faces) > 0:\n",
    "            # Draw a rectangle around the faces\n",
    "            for (x, y, w, h) in faces:\n",
    "                cv2.rectangle(img, (x, y), (x + w, y + h), (0, 255, 0), 2)\n",
    "            frame_tmp = img[faces[0][1]:faces[0][1] + faces[0][3], faces[0][0]:faces[0][0] + faces[0][2]:1, :]\n",
    "            frame = frame[faces[0][1]:faces[0][1] + faces[0][3], faces[0][0]:faces[0][0] + faces[0][2]:1]\n",
    "            eyes = eyeCascade.detectMultiScale(\n",
    "                frame,\n",
    "                scaleFactor=1.1,\n",
    "                minNeighbors=0,\n",
    "                minSize=(30, 30),\n",
    "                # flags = cv2.CV_HAAR_SCALE_IMAGE\n",
    "            )\n",
    "            if len(eyes) == 0:\n",
    "                print('no eyes!!!')\n",
    "            else:\n",
    "                print('eyes!!!')\n",
    "            frame_tmp = cv2.resize(frame_tmp, (400, 400), interpolation=cv2.INTER_LINEAR)\n",
    "            cv2.imshow('Face Recognition', frame_tmp)\n",
    "        waitkey = cv2.waitKey(1)\n",
    "        if waitkey == ord('q') or waitkey == ord('Q'):\n",
    "            cv2.destroyAllWindows()\n",
    "            break"
   ]
  },
  {
   "cell_type": "code",
   "execution_count": 1,
   "metadata": {},
   "outputs": [
    {
     "data": {
      "text/plain": [
       "-1"
      ]
     },
     "execution_count": 1,
     "metadata": {},
     "output_type": "execute_result"
    }
   ],
   "source": [
    "import cv2\n",
    "img = cv2.imread('test_imgs/riad.jpg')\n",
    "cv2.imshow(\"Output\",img)\n",
    "cv2.waitKey(0)"
   ]
  },
  {
   "cell_type": "code",
   "execution_count": null,
   "metadata": {},
   "outputs": [],
   "source": []
  }
 ],
 "metadata": {
  "interpreter": {
   "hash": "4949b78f48d8513d8ff039910be2b63568b354150738d3e85d54b60dc360063c"
  },
  "kernelspec": {
   "display_name": "Python 3",
   "language": "python",
   "name": "python3"
  },
  "language_info": {
   "codemirror_mode": {
    "name": "ipython",
    "version": 3
   },
   "file_extension": ".py",
   "mimetype": "text/x-python",
   "name": "python",
   "nbconvert_exporter": "python",
   "pygments_lexer": "ipython3",
   "version": "3.8.8"
  }
 },
 "nbformat": 4,
 "nbformat_minor": 2
}
